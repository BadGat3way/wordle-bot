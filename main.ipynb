{
  "cells": [
    {
      "cell_type": "markdown",
      "metadata": {
        "id": "5h82u8PnvAQ7"
      },
      "source": [
        "# Game of WORDLE"
      ]
    },
    {
      "cell_type": "markdown",
      "metadata": {
        "id": "CdEH1D8_vAQ9"
      },
      "source": [
        "Wordle is a popular word guessing game. Here are the rules of the game:\n",
        "\n",
        "The game begins with a randomly selected five-letter word.\n",
        "The player must guess the word within ten attempts.\n",
        "\n",
        "After each guess, the player will receive feedback in the form of a list of integers of length 5, containing either 0,1, or 2 (eg [0,0,1,2,1] or [1,1,2,0,1])\n",
        "\n",
        "If the ith integer is:\n",
        "*  0, then the ith letter of the guess is not present in the word\n",
        "* 1, then the ith letter of the guess is correctly positioned\n",
        "* 2, then the ith letter of the guess is present in the word but is misplaced.\n",
        "\n",
        "The player can use this feedback to refine their guesses and work towards solving the word.\n",
        "The game ends when the player correctly guesses the word or uses up all ten attempts.\n",
        "\n",
        "\n",
        "**You have been provided with most of the code to run the wordle game, to take in your guesses and to provide feedback. Your task is to code the ```generate_guess()``` function which takes as input a feedback which is a list of integers of length 5 containing either 0, 1 or 2 as explained earlier and returns the best possible guess of a 5 letter word.**\n",
        "\n",
        "The list of words to choose from is stored in the variable ```self.words```, and the correct word is guaranteed to belong to this list.\n",
        "\n",
        "The game runs your algorithm for 10 different words and prints out your guesses and whether you got the correct answer. Note that, an average human takes just above 4 guesses to solve a wordle. With 10 allowed guesses your algorithm has infact been given a lot of headroom. Try to do better than 10 and optimize as much as you can."
      ]
    },
    {
      "cell_type": "code",
      "source": [
        "from google.colab import drive\n",
        "import sys\n",
        "drive.mount('/content/drive/', force_remount = True)\n",
        "sys.path.append('/content/drive/MyDrive/wordle')\n",
        "from utils import *"
      ],
      "metadata": {
        "id": "6RCXri0ZchpK",
        "colab": {
          "base_uri": "https://localhost:8080/"
        },
        "outputId": "f4bc2909-ca49-47ff-f3e0-72bfc2a0e15a"
      },
      "execution_count": 1,
      "outputs": [
        {
          "output_type": "stream",
          "name": "stdout",
          "text": [
            "Mounted at /content/drive/\n"
          ]
        }
      ]
    },
    {
      "cell_type": "code",
      "execution_count": 2,
      "metadata": {
        "id": "wn2cqzVovAQ-"
      },
      "outputs": [],
      "source": [
        "import math\n",
        "import requests\n",
        "\n",
        "class Solver(Wordle):\n",
        "    def __init__(self):\n",
        "        super().__init__()\n",
        "\n",
        "    possible_ans_list = []\n",
        "    # The compiler wasn't able to access self.words (Error: name 'self' is not defined.)\n",
        "    # So, I manually inputted the list into another variable.\n",
        "    response = requests.get('https://raw.githubusercontent.com/charlesreid1/five-letter-words/master/sgb-words.txt')\n",
        "    data = response.text\n",
        "    possible_ans_list = data.split('\\n')\n",
        "    possible_ans_list.remove('')\n",
        "\n",
        "    def reset_list():\n",
        "        Solver.guess = \"sales\"\n",
        "        Solver.possible_ans_list = Solver.data.split('\\n')\n",
        "        Solver.possible_ans_list.remove('')\n",
        "\n",
        "    def get_possible_words(self,word, output, possible_ans_list,flag):\n",
        "        alpha0 = []\n",
        "        alpha1 = {}\n",
        "        alpha2 = {}\n",
        "        for i in range(0,5):\n",
        "            if output[i] == 0:\n",
        "                alpha0.append(word[i])\n",
        "        for i in range(0,5):\n",
        "            if output[i] == 1:\n",
        "                alpha1[word[i]] = i\n",
        "        for i in range (0,5):\n",
        "            if output[i] == 2:\n",
        "                alpha2[word[i]] = i\n",
        "\n",
        "        remove_words = []\n",
        "        for search0 in possible_ans_list:\n",
        "            for ch in search0:\n",
        "                if ch in alpha0:\n",
        "                    remove_words.append(search0)\n",
        "                    break\n",
        "        for search1 in possible_ans_list:\n",
        "            for j in alpha1:\n",
        "                if search1[alpha1[j]] != j:\n",
        "                    remove_words.append(search1)\n",
        "                    break\n",
        "        for search2 in possible_ans_list:\n",
        "            for ch in alpha2:\n",
        "                if (ch not in search2):\n",
        "                    remove_words.append(search2)\n",
        "                    break\n",
        "\n",
        "        if flag == 1:       # When updation in list required.\n",
        "            for search2 in possible_ans_list:\n",
        "                for j in alpha2:\n",
        "                    if search2[alpha2[j]] == j:\n",
        "                        remove_words.append(search2)\n",
        "                        break\n",
        "            for i in remove_words:\n",
        "                if i in possible_ans_list:\n",
        "                    possible_ans_list.remove(i)\n",
        "            return possible_ans_list\n",
        "        if flag == 0:       # When entropy calculation is done.\n",
        "            return (len(possible_ans_list)-len(set(remove_words)))\n",
        "\n",
        "\n",
        "    fdbk_list = []\n",
        "    for a in [0,1,2]:\n",
        "        for b in [0,1,2]:\n",
        "            for c in [0,1,2]:\n",
        "                for d in [0,1,2]:\n",
        "                    for e in [0,1,2]:\n",
        "                        fdbk = [a,b,c,d,e]\n",
        "                        fdbk_list.append(fdbk)\n",
        "\n",
        "    guess = \"sales\"\n",
        "    def generate_guess(self, feedback=None):\n",
        "        if feedback == None:\n",
        "            Solver.reset_list()\n",
        "            return Solver.guess\n",
        "        else:\n",
        "            Solver.get_possible_words(self,Solver.guess,feedback,Solver.possible_ans_list,1)\n",
        "            max_entropy = 0\n",
        "            max_entropy_word = \"\"\n",
        "            for chrt in Solver.possible_ans_list:\n",
        "                total_entropy = 0\n",
        "                for fdbk in Solver.fdbk_list:\n",
        "                    try:\n",
        "                        p_x = Solver.get_possible_words(self,chrt,fdbk,Solver.possible_ans_list,0)/len(Solver.possible_ans_list)\n",
        "                        entropy = (p_x)*(math.log((1/p_x),2))\n",
        "                        total_entropy += entropy\n",
        "                    except ZeroDivisionError:\n",
        "                        continue\n",
        "                if total_entropy >= max_entropy:\n",
        "                    max_entropy_word = chrt\n",
        "                    max_entropy = total_entropy\n",
        "            Solver.guess = max_entropy_word\n",
        "            return Solver.guess\n"
      ]
    },
    {
      "cell_type": "code",
      "execution_count": null,
      "metadata": {
        "id": "l88MLDqfvAQ_",
        "colab": {
          "base_uri": "https://localhost:8080/"
        },
        "outputId": "6c6220bd-3866-4b87-b589-12eee06641c5"
      },
      "outputs": [
        {
          "output_type": "stream",
          "name": "stdout",
          "text": [
            "Simulating for  50  words.\n",
            "\n",
            "WORD #[ 1 / 50 ]\n",
            "\tGuess # 1 \t: sales \tFeedback:  [0, 0, 1, 1, 0]\n",
            "\tGuess # 2 \t: oiled \tFeedback:  [1, 0, 1, 1, 1]\n",
            "\tGuess # 3 \t: ogled \tFeedback:  [1, 1, 1, 1, 1]\n",
            "\t\n",
            "Success.\tCorrect word:  ogled \tNumber of guesses:  3\n",
            "\n",
            "\n",
            "WORD #[ 2 / 50 ]\n",
            "\tGuess # 1 \t: sales \tFeedback:  [2, 2, 2, 0, 1]\n",
            "\tGuess # 2 \t: flaps \tFeedback:  [0, 1, 1, 2, 1]\n",
            "\tGuess # 3 \t: plats \tFeedback:  [1, 1, 1, 0, 1]\n",
            "\tGuess # 4 \t: plays \tFeedback:  [1, 1, 1, 1, 1]\n",
            "\t\n",
            "Success.\tCorrect word:  plays \tNumber of guesses:  4\n",
            "\n",
            "\n",
            "WORD #[ 3 / 50 ]\n",
            "\tGuess # 1 \t: sales \tFeedback:  [0, 0, 0, 1, 0]\n",
            "\tGuess # 2 \t: eider \tFeedback:  [2, 0, 2, 1, 2]\n",
            "\tGuess # 3 \t: cored \tFeedback:  [1, 0, 1, 1, 1]\n",
            "\tGuess # 4 \t: cured \tFeedback:  [1, 1, 1, 1, 1]\n",
            "\t\n",
            "Success.\tCorrect word:  cured \tNumber of guesses:  4\n",
            "\n",
            "\n",
            "WORD #[ 4 / 50 ]\n",
            "\tGuess # 1 \t: sales \tFeedback:  [0, 0, 0, 2, 0]\n",
            "\tGuess # 2 \t: eerie \tFeedback:  [2, 2, 2, 0, 1]\n",
            "\tGuess # 3 \t: prone \tFeedback:  [0, 1, 0, 0, 1]\n",
            "\tGuess # 4 \t: brute \tFeedback:  [0, 1, 1, 2, 1]\n",
            "\tGuess # 5 \t: truce \tFeedback:  [1, 1, 1, 1, 1]\n",
            "\t\n",
            "Success.\tCorrect word:  truce \tNumber of guesses:  5\n",
            "\n",
            "\n",
            "WORD #[ 5 / 50 ]\n",
            "\tGuess # 1 \t: sales \tFeedback:  [1, 0, 2, 0, 2]\n",
            "\tGuess # 2 \t: slily \tFeedback:  [1, 1, 0, 2, 0]\n",
            "\tGuess # 3 \t: slump \tFeedback:  [1, 1, 0, 0, 1]\n",
            "\tGuess # 4 \t: sloop \tFeedback:  [1, 1, 1, 1, 1]\n",
            "\t\n",
            "Success.\tCorrect word:  sloop \tNumber of guesses:  4\n",
            "\n",
            "\n",
            "WORD #[ 6 / 50 ]\n",
            "\tGuess # 1 \t: sales \tFeedback:  [0, 1, 0, 1, 0]\n",
            "\tGuess # 2 \t: rated \tFeedback:  [0, 1, 2, 1, 0]\n",
            "\tGuess # 3 \t: facet \tFeedback:  [0, 1, 0, 1, 2]\n",
            "\tGuess # 4 \t: taken \tFeedback:  [1, 1, 1, 1, 1]\n",
            "\t\n",
            "Success.\tCorrect word:  taken \tNumber of guesses:  4\n",
            "\n",
            "\n",
            "WORD #[ 7 / 50 ]\n",
            "\tGuess # 1 \t: sales \tFeedback:  [2, 0, 1, 1, 1]\n",
            "\tGuess # 2 \t: riles \tFeedback:  [0, 1, 1, 1, 1]\n",
            "\tGuess # 3 \t: biles \tFeedback:  [0, 1, 1, 1, 1]\n",
            "\tGuess # 4 \t: wiles \tFeedback:  [0, 1, 1, 1, 1]\n",
            "\tGuess # 5 \t: tiles \tFeedback:  [0, 1, 1, 1, 1]\n",
            "\tGuess # 6 \t: files \tFeedback:  [0, 1, 1, 1, 1]\n",
            "\tGuess # 7 \t: piles \tFeedback:  [0, 1, 1, 1, 1]\n",
            "\tGuess # 8 \t: miles \tFeedback:  [1, 1, 1, 1, 1]\n",
            "\t\n",
            "Success.\tCorrect word:  miles \tNumber of guesses:  8\n",
            "\n",
            "\n",
            "WORD #[ 8 / 50 ]\n",
            "\tGuess # 1 \t: sales \tFeedback:  [2, 0, 0, 1, 1]\n"
          ]
        }
      ],
      "source": [
        "game = Game(Solver, N=50)\n",
        "game.run()"
      ]
    },
    {
      "cell_type": "markdown",
      "source": [
        "# References\n",
        "\n",
        "1. 3Blue1Brown's Youtube Video: https://youtu.be/v68zYyaEmEA\n",
        "2. Information Theory applied to Wordle:\n",
        "https://towardsdatascience.com/information-theory-applied-to-wordle-b63b34a6538e"
      ],
      "metadata": {
        "id": "S9FK79m6tKDd"
      }
    }
  ],
  "metadata": {
    "kernelspec": {
      "display_name": "base",
      "language": "python",
      "name": "python3"
    },
    "language_info": {
      "codemirror_mode": {
        "name": "ipython",
        "version": 3
      },
      "file_extension": ".py",
      "mimetype": "text/x-python",
      "name": "python",
      "nbconvert_exporter": "python",
      "pygments_lexer": "ipython3",
      "version": "3.10.9"
    },
    "orig_nbformat": 4,
    "colab": {
      "provenance": []
    },
    "gpuClass": "standard"
  },
  "nbformat": 4,
  "nbformat_minor": 0
}